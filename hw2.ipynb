{
 "cells": [
  {
   "cell_type": "code",
   "execution_count": 1,
   "metadata": {},
   "outputs": [],
   "source": [
    "%load_ext pycodestyle_magic\n",
    "%pycodestyle_on"
   ]
  },
  {
   "cell_type": "markdown",
   "metadata": {},
   "source": [
    "# Домашнее задание 2 часть 1"
   ]
  },
  {
   "cell_type": "markdown",
   "metadata": {},
   "source": [
    "## домашку сделала совместно с Машей Козловой, Людмилой Путятовой и Дарьей Шибасовой"
   ]
  },
  {
   "cell_type": "markdown",
   "metadata": {},
   "source": [
    "# 2. Обработать книгу с помощью mystem"
   ]
  },
  {
   "cell_type": "code",
   "execution_count": 2,
   "metadata": {},
   "outputs": [],
   "source": [
    "from pymystem3 import Mystem"
   ]
  },
  {
   "cell_type": "code",
   "execution_count": 3,
   "metadata": {},
   "outputs": [],
   "source": [
    "from pprint import pprint\n",
    "m = Mystem()\n",
    "\n",
    "with open('pushkin.txt', encoding='utf-8') as f:\n",
    "    text = f.read()"
   ]
  },
  {
   "cell_type": "markdown",
   "metadata": {},
   "source": [
    "### распарсить с помощью mystem"
   ]
  },
  {
   "cell_type": "code",
   "execution_count": 4,
   "metadata": {},
   "outputs": [
    {
     "name": "stdout",
     "output_type": "stream",
     "text": [
      "[{'text': '\\n'},\n",
      " {'text': '        '},\n",
      " {'analysis': [{'gr': 'S,имя,муж,од=им,ед', 'lex': 'андрей', 'wt': 1}],\n",
      "  'text': 'Андрей'},\n",
      " {'text': ' '},\n",
      " {'analysis': [{'gr': 'S,фам,муж,од=им,ед',\n",
      "                'lex': 'гурьев',\n",
      "                'wt': 0.989317458}],\n",
      "  'text': 'Гурьев'},\n",
      " {'text': '. '},\n",
      " {'analysis': [{'gr': 'S,муж,неод=дат,ед', 'lex': 'юбилей', 'wt': 1}],\n",
      "  'text': 'Юбилею'},\n",
      " {'text': ' '},\n",
      " {'analysis': [{'gr': 'S,фам,муж,од=(вин,ед|род,ед)',\n",
      "                'lex': 'пушкин',\n",
      "                'wt': 0.9823517196}],\n",
      "  'text': 'Пушкина'},\n",
      " {'text': '\\n'},\n",
      " {'text': '\\n'},\n",
      " {'text': '\\n'},\n",
      " {'text': '\\n'},\n",
      " {'text': '---------------------------------------------------------------\\n'},\n",
      " {'text': '     '},\n",
      " {'analysis': [], 'text': '©'},\n",
      " {'text': ' '},\n",
      " {'analysis': [], 'text': 'Copyright'},\n",
      " {'text': ' '},\n",
      " {'analysis': [{'gr': 'S,имя,муж,од=им,ед', 'lex': 'андрей', 'wt': 1}],\n",
      "  'text': 'Андрей'},\n",
      " {'text': ' '},\n",
      " {'analysis': [{'gr': 'S,фам,муж,од=им,ед',\n",
      "                'lex': 'гурьев',\n",
      "                'wt': 0.989317458}],\n",
      "  'text': 'Гурьев'},\n",
      " {'text': '\\n'},\n",
      " {'text': '     '},\n",
      " {'analysis': [], 'text': 'Email'},\n",
      " {'text': ': '},\n",
      " {'analysis': [], 'text': 'ad'},\n",
      " {'text': '@'},\n",
      " {'analysis': [], 'text': 'globe'},\n",
      " {'text': '.'},\n",
      " {'analysis': [], 'text': 'ewsd'},\n",
      " {'text': '.'},\n",
      " {'analysis': [], 'text': 'chtts'},\n",
      " {'text': '.'},\n",
      " {'analysis': [], 'text': 'ru'},\n",
      " {'text': ' <'},\n",
      " {'analysis': [], 'text': 'mailto'},\n",
      " {'text': ':'},\n",
      " {'analysis': [], 'text': 'ad'},\n",
      " {'text': '@'},\n",
      " {'analysis': [], 'text': 'globe'},\n",
      " {'text': '.'},\n",
      " {'analysis': [], 'text': 'ewsd'},\n",
      " {'text': '.'},\n",
      " {'analysis': [], 'text': 'chtts'},\n",
      " {'text': '.'},\n",
      " {'analysis': [], 'text': 'ru'},\n",
      " {'text': '>\\n'},\n",
      " {'text': '     '},\n",
      " {'analysis': [], 'text': 'Date'},\n",
      " {'text': ': '},\n",
      " {'text': '9'},\n",
      " {'text': ' '},\n",
      " {'analysis': [], 'text': 'apr'},\n",
      " {'text': ' '},\n",
      " {'text': '99'},\n",
      " {'text': '\\n'},\n",
      " {'text': '     '},\n",
      " {'analysis': [{'gr': 'S,сред,неод=(вин,ед|им,ед)',\n",
      "                'lex': 'стихотворение',\n",
      "                'wt': 1}],\n",
      "  'text': 'Стихотворение'},\n",
      " {'text': ' '},\n",
      " {'analysis': [{'gr': 'V,пе=прош,ед,прич,кр,сред,сов,страд',\n",
      "                'lex': 'предлагать',\n",
      "                'wt': 1}],\n",
      "  'text': 'предложено'},\n",
      " {'text': ' '},\n",
      " {'analysis': [{'gr': 'PR=', 'lex': 'для', 'wt': 1}], 'text': 'для'},\n",
      " {'text': ' '},\n",
      " {'analysis': [{'gr': 'S,сред,неод=(вин,мн|род,ед|им,мн)',\n",
      "                'lex': 'размещение',\n",
      "                'wt': 1}],\n",
      "  'text': 'размещения'},\n",
      " {'text': ' '},\n",
      " {'analysis': [{'gr': 'PR=', 'lex': 'в', 'wt': 0.9999917878}], 'text': 'в'},\n",
      " {'text': ' '},\n",
      " {'analysis': [{'gr': 'S,муж,неод=(вин,ед|им,ед)',\n",
      "                'lex': 'раздел',\n",
      "                'wt': 0.8533990219}],\n",
      "  'text': 'раздел'},\n",
      " {'text': ' \"'},\n",
      " {'analysis': [{'gr': 'S,муж,неод=(вин,ед|им,ед)', 'lex': 'самиздат', 'wt': 1}],\n",
      "  'text': 'Самиздат'},\n",
      " {'text': '\"\\n'},\n",
      " {'text': '---------------------------------------------------------------\\n'},\n",
      " {'text': '\\n'},\n",
      " {'text': '\\n'},\n",
      " {'text': '        '},\n",
      " {'analysis': [{'gr': 'S,муж,неод=дат,ед', 'lex': 'юбилей', 'wt': 1}],\n",
      "  'text': 'Юбилею'},\n",
      " {'text': ' '},\n",
      " {'analysis': [{'gr': 'S,фам,муж,од=(вин,ед|род,ед)',\n",
      "                'lex': 'пушкин',\n",
      "                'wt': 0.9823517196}],\n",
      "  'text': 'Пушкина'},\n",
      " {'text': '\\n'},\n",
      " {'text': '\\n'},\n",
      " {'text': '\\n'},\n",
      " {'text': '\\n'},\n",
      " {'text': '\\n'},\n",
      " {'text': '     '},\n",
      " {'analysis': [{'gr': 'SPRO,ед,3-л,муж=им', 'lex': 'он', 'wt': 1}],\n",
      "  'text': 'Он'},\n",
      " {'text': ' '},\n",
      " {'analysis': [{'gr': 'V,несов,пе=прош,ед,изъяв,муж',\n",
      "                'lex': 'считать',\n",
      "                'wt': 0.9882272682}],\n",
      "  'text': 'считал'},\n",
      " {'text': ' '},\n",
      " {'analysis': [{'gr': 'S,муж,неод=(вин,мн|им,мн)', 'lex': 'стих', 'wt': 1}],\n",
      "  'text': 'стихи'},\n",
      " {'text': ' '},\n",
      " {'analysis': [{'gr': 'S,жен,неод=твор,ед', 'lex': 'забава', 'wt': 1}],\n",
      "  'text': 'забавой'},\n",
      " {'text': ' --\\n'},\n",
      " {'analysis': [{'gr': 'APRO=(вин,ед,муж,неод|им,ед,муж)',\n",
      "                'lex': 'этот',\n",
      "                'wt': 1}],\n",
      "  'text': 'Этот'},\n",
      " {'text': ' '},\n",
      " {'analysis': [{'gr': 'S,муж,од=им,ед', 'lex': 'мальчик', 'wt': 1}],\n",
      "  'text': 'мальчик'},\n",
      " {'text': ' '},\n",
      " {'analysis': [{'gr': 'A=(вин,ед,полн,муж,неод|им,ед,полн,муж)',\n",
      "                'lex': 'кучерявый',\n",
      "                'wt': 1}],\n",
      "  'text': 'кучерявый'},\n",
      " {'text': ',\\n'},\n",
      " {'analysis': [{'gr': 'CONJ=', 'lex': 'а', 'wt': 0.9822148501}], 'text': 'А'},\n",
      " {'text': ' '},\n",
      " {'analysis': [{'gr': 'CONJ=', 'lex': 'когда', 'wt': 0.8251525963}],\n",
      "  'text': 'когда'},\n",
      " {'text': ' '},\n",
      " {'analysis': [{'gr': 'ADV=', 'lex': 'чуть-чуть', 'wt': 1}],\n",
      "  'text': 'чуть-чуть'},\n",
      " {'text': ' '},\n",
      " {'analysis': [{'gr': 'V,нп=прош,ед,изъяв,муж,сов',\n",
      "                'lex': 'подрастать',\n",
      "                'wt': 1}],\n",
      "  'text': 'подрос'},\n",
      " {'text': ',\\n'},\n",
      " {'analysis': [{'gr': 'V,нп=прош,ед,изъяв,муж,сов',\n",
      "                'lex': 'приниматься',\n",
      "                'wt': 1}],\n",
      "  'text': 'Принялся'},\n",
      " {'text': ' '},\n",
      " {'analysis': [{'gr': 'PR=', 'lex': 'за', 'wt': 1}], 'text': 'за'},\n",
      " {'text': ' '},\n",
      " {'analysis': [{'gr': 'SPRO,мн=(пр|вин|род)', 'lex': 'они', 'wt': 1}],\n",
      "  'text': 'них'},\n",
      " {'text': ' '},\n",
      " {'analysis': [{'gr': 'ADV=', 'lex': 'всерьез', 'wt': 1}], 'text': 'всерьез'},\n",
      " {'text': '.'},\n",
      " {'text': '\\n'},\n",
      " {'analysis': [{'gr': 'PR=', 'lex': 'с', 'wt': 0.999977831}], 'text': 'С'},\n",
      " {'text': ' '},\n",
      " {'analysis': [{'gr': 'SPRO,ед,3-л,муж=твор', 'lex': 'он', 'wt': 0.9597407619}],\n",
      "  'text': 'ним'},\n",
      " {'text': ' '},\n",
      " {'analysis': [{'gr': 'PR=', 'lex': 'в', 'wt': 0.9999917878}], 'text': 'в'},\n",
      " {'text': ' '},\n",
      " {'analysis': [{'gr': 'S,жен,неод=вин,ед', 'lex': 'поэзия', 'wt': 1}],\n",
      "  'text': 'поэзию'},\n",
      " {'text': ' '},\n",
      " {'analysis': [{'gr': 'V,нп=прош,ед,изъяв,муж,сов',\n",
      "                'lex': 'проникать',\n",
      "                'wt': 1}],\n",
      "  'text': 'проник'},\n",
      " {'text': '\\n'},\n",
      " {'analysis': [{'gr': 'S,муж,од=им,ед', 'lex': 'русский', 'wt': 0.2924039545}],\n",
      "  'text': 'Русский'},\n",
      " {'text': ' '},\n",
      " {'analysis': [{'gr': 'ADV=', 'lex': 'подлинно', 'wt': 0.6165060944}],\n",
      "  'text': 'подлинно'},\n",
      " {'text': ' '},\n",
      " {'analysis': [{'gr': 'S,муж,неод=(вин,ед|им,ед)',\n",
      "                'lex': 'язык',\n",
      "                'wt': 0.9963315267}],\n",
      "  'text': 'язык'},\n",
      " {'text': '.'},\n",
      " {'text': '\\n'},\n",
      " {'text': '\\n'},\n",
      " {'text': '     '},\n",
      " {'analysis': [{'gr': 'CONJ=', 'lex': 'и', 'wt': 0.9999770357}], 'text': 'И'},\n",
      " {'text': ', '},\n",
      " {'analysis': [{'gr': 'CONJ=', 'lex': 'как', 'wt': 0.6102574114}],\n",
      "  'text': 'как'},\n",
      " {'text': ' '},\n",
      " {'analysis': [{'gr': 'A=(вин,ед,полн,муж,неод|им,ед,полн,муж)',\n",
      "                'lex': 'истинный',\n",
      "                'wt': 1}],\n",
      "  'text': 'истинный'},\n",
      " {'text': ' '},\n",
      " {'analysis': [{'gr': 'S,муж,од=им,ед', 'lex': 'поэт', 'wt': 1}],\n",
      "  'text': 'поэт'},\n",
      " {'text': ', '},\n",
      " {'analysis': [{'gr': 'SPRO,ед,3-л,муж=им', 'lex': 'он', 'wt': 1}],\n",
      "  'text': 'он'},\n",
      " {'text': '\\n'},\n",
      " {'analysis': [{'gr': 'S,муж,од=твор,ед', 'lex': 'хулиган', 'wt': 1}],\n",
      "  'text': 'Хулиганом'},\n",
      " {'text': ' '},\n",
      " {'analysis': [{'gr': 'V,нп=прош,ед,изъяв,муж,несов', 'lex': 'быть', 'wt': 1}],\n",
      "  'text': 'был'},\n",
      " {'text': ' '},\n",
      " {'analysis': [{'gr': 'A=(дат,мн,полн|твор,ед,полн,муж|твор,ед,полн,сред)',\n",
      "                'lex': 'отпетый',\n",
      "                'wt': 0.893414248}],\n",
      "  'text': 'отпетым'},\n",
      " {'text': '.'},\n",
      " {'text': '\\n'},\n",
      " {'analysis': [{'gr': 'PR=', 'lex': 'на', 'wt': 0.9989522965}], 'text': 'На'},\n",
      " {'text': ' '},\n",
      " {'analysis': [{'gr': 'S,жен,од=(вин,мн|род,мн)', 'lex': 'красавица', 'wt': 1}],\n",
      "  'text': 'красавиц'},\n",
      " {'text': ' '},\n",
      " {'analysis': [{'gr': 'CONJ=', 'lex': 'лишь', 'wt': 0.04514649406}],\n",
      "  'text': 'лишь'},\n",
      " {'text': ' '},\n",
      " {'analysis': [{'gr': 'V,несов,нп=прош,ед,изъяв,муж',\n",
      "                'lex': 'молиться',\n",
      "                'wt': 1}],\n",
      "  'text': 'молился'},\n",
      " {'text': '\\n'},\n",
      " {'analysis': [{'gr': 'CONJ=', 'lex': 'и', 'wt': 0.9999770357}], 'text': 'И'},\n",
      " {'text': ' '},\n",
      " {'analysis': [{'gr': 'PR=', 'lex': 'за', 'wt': 1}], 'text': 'за'},\n",
      " {'text': ' '},\n",
      " {'analysis': [{'gr': 'S,жен,неод=твор,мн', 'lex': 'юбка', 'wt': 1}],\n",
      "  'text': 'юбками'},\n",
      " {'text': ' '},\n",
      " {'analysis': [{'gr': 'V,несов,нп=прош,ед,изъяв,муж',\n",
      "                'lex': 'влачиться',\n",
      "                'wt': 1}],\n",
      "  'text': 'влачился'},\n",
      " {'text': '.'},\n",
      " {'text': '\\n'},\n",
      " {'analysis': [{'gr': 'ADVPRO=', 'lex': 'как', 'wt': 0.3756069802}],\n",
      "  'text': 'Как'},\n",
      " {'text': ' '},\n",
      " {'analysis': [{'gr': 'CONJ=', 'lex': 'и', 'wt': 0.9999770357}], 'text': 'и'},\n",
      " {'text': ' '},\n",
      " {'analysis': [{'gr': 'V,несов=непрош,ед,изъяв,3-л',\n",
      "                'lex': 'следовать',\n",
      "                'wt': 1}],\n",
      "  'text': 'следует'},\n",
      " {'text': ' '},\n",
      " {'analysis': [{'gr': 'S,муж,од=дат,ед', 'lex': 'поэт', 'wt': 1}],\n",
      "  'text': 'поэту'},\n",
      " {'text': ',\\n'},\n",
      " {'analysis': [{'gr': 'V,нп=прош,ед,изъяв,муж,несов', 'lex': 'быть', 'wt': 1}],\n",
      "  'text': 'Был'},\n",
      " {'text': ' '},\n",
      " {'analysis': [{'gr': 'V,пе=(непрош,мн,изъяв,1-л,несов|непрош,ед,прич,кр,муж,несов,страд)',\n",
      "                'lex': 'сживать',\n",
      "                'wt': 1}],\n",
      "  'text': 'сживаем'},\n",
      " {'text': ' '},\n",
      " {'analysis': [{'gr': 'SPRO,ед,3-л,муж=им', 'lex': 'он', 'wt': 1}],\n",
      "  'text': 'он'},\n",
      " {'text': ' '},\n",
      " {'analysis': [{'gr': 'PR=', 'lex': 'со', 'wt': 1}], 'text': 'со'},\n",
      " {'text': ' '},\n",
      " {'analysis': [{'gr': 'S,ед,муж,неод=(дат|местн|парт)',\n",
      "                'lex': 'свет',\n",
      "                'wt': 0.994710897}],\n",
      "  'text': 'свету'},\n",
      " {'text': ',\\n'},\n",
      " {'analysis': [{'gr': 'CONJ=', 'lex': 'а', 'wt': 0.9822148501}], 'text': 'А'},\n",
      " {'text': ' '},\n",
      " {'analysis': [{'gr': 'CONJ=', 'lex': 'когда', 'wt': 0.8251525963}],\n",
      "  'text': 'когда'},\n",
      " {'text': ' '},\n",
      " {'analysis': [{'gr': 'V,нп=прош,ед,изъяв,муж,сов',\n",
      "                'lex': 'становиться',\n",
      "                'wt': 1}],\n",
      "  'text': 'стал'},\n",
      " {'text': ' '},\n",
      " {'analysis': [{'gr': 'S,жен,неод=твор,ед', 'lex': 'бронза', 'wt': 1}],\n",
      "  'text': 'бронзой'},\n",
      " {'text': ' '},\n",
      " {'analysis': [{'gr': 'SPRO,ед,3-л,муж=им', 'lex': 'он', 'wt': 1}],\n",
      "  'text': 'он'},\n",
      " {'text': ',\\n'},\n",
      " {'analysis': [{'gr': 'APRO=(вин,ед,полн,муж,неод|им,ед,полн,муж)',\n",
      "                'lex': 'всякий',\n",
      "                'wt': 0.8768909929}],\n",
      "  'text': 'Всякий'},\n",
      " {'text': ' '},\n",
      " {'analysis': [{'gr': 'V,нп=прош,ед,изъяв,муж,несов', 'lex': 'быть', 'wt': 1}],\n",
      "  'text': 'был'},\n",
      " {'text': ' '},\n",
      " {'analysis': [{'gr': 'PR=', 'lex': 'в', 'wt': 0.9999917878}], 'text': 'в'},\n",
      " {'text': ' '},\n",
      " {'analysis': [{'gr': 'SPRO,ед,3-л,сред=(вин|род)',\n",
      "                'lex': 'оно',\n",
      "                'wt': 0.04813706201}],\n",
      "  'text': 'него'},\n",
      " {'text': ' '},\n",
      " {'analysis': [{'gr': 'A=ед,кр,муж', 'lex': 'влюбленный', 'wt': 0.9139319355}],\n",
      "  'text': 'влюблен'},\n",
      " {'text': '.'},\n",
      " {'text': '\\n'},\n",
      " {'text': '\\n'},\n",
      " {'text': '     '},\n",
      " {'analysis': [{'gr': 'PART=', 'lex': 'вот', 'wt': 0.9998923304}],\n",
      "  'text': 'Вот'},\n",
      " {'text': ' '},\n",
      " {'analysis': [{'gr': 'ADV=', 'lex': 'уже', 'wt': 0.9985784456}],\n",
      "  'text': 'уже'},\n",
      " {'text': ' '},\n",
      " {'analysis': [{'gr': 'CONJ=', 'lex': 'как', 'wt': 0.6102574114}],\n",
      "  'text': 'как'},\n",
      " {'text': ' '},\n",
      " {'text': '200'},\n",
      " {'text': ' '},\n",
      " {'analysis': [{'gr': 'S,муж,неод=род,мн', 'lex': 'год', 'wt': 0.9954891636}],\n",
      "  'text': 'лет'},\n",
      " {'text': '\\n'},\n",
      " {'analysis': [{'gr': 'APRO=(вин,ед,муж,неод|им,ед,муж)',\n",
      "                'lex': 'самый',\n",
      "                'wt': 1}],\n",
      "  'text': 'Самый'},\n",
      " {'text': ' '},\n",
      " {'analysis': [{'gr': 'A=(вин,ед,полн,муж,неод|им,ед,полн,муж)',\n",
      "                'lex': 'знатный',\n",
      "                'wt': 1}],\n",
      "  'text': 'знатный'},\n",
      " {'text': ' '},\n",
      " {'analysis': [{'gr': 'SPRO,ед,3-л,муж=им', 'lex': 'он', 'wt': 1}],\n",
      "  'text': 'он'},\n",
      " {'text': ' '},\n",
      " {'analysis': [{'gr': 'S,муж,од=им,ед', 'lex': 'поэт', 'wt': 1}],\n",
      "  'text': 'поэт'},\n",
      " {'text': '.'},\n",
      " {'text': '\\n'},\n",
      " {'text': '\\n'},\n",
      " {'text': '\\n'},\n",
      " {'text': '------------------------------------------------------------------------\\n'},\n",
      " {'analysis': [{'gr': 'S,жен,неод=(вин,ед|им,ед)',\n",
      "                'lex': 'популярность',\n",
      "                'wt': 1}],\n",
      "  'text': 'Популярность'},\n",
      " {'text': ': *'},\n",
      " {'text': '10'},\n",
      " {'text': '*, '},\n",
      " {'analysis': [], 'text': 'Last'},\n",
      " {'text': '-'},\n",
      " {'analysis': [], 'text': 'modified'},\n",
      " {'text': ': '},\n",
      " {'analysis': [], 'text': 'Sat'},\n",
      " {'text': ', '},\n",
      " {'text': '10'},\n",
      " {'text': ' '},\n",
      " {'analysis': [], 'text': 'Apr'},\n",
      " {'text': ' '},\n",
      " {'text': '1999'},\n",
      " {'text': ' '},\n",
      " {'text': '21'},\n",
      " {'text': ':'},\n",
      " {'text': '28'},\n",
      " {'text': ':'},\n",
      " {'text': '12'},\n",
      " {'text': ' '},\n",
      " {'analysis': [], 'text': 'GMT'},\n",
      " {'text': '\\n'},\n",
      " {'text': '\\n'},\n",
      " {'text': '\\n'},\n",
      " {'text': '\\n'},\n",
      " {'text': '\\n'}]\n"
     ]
    }
   ],
   "source": [
    "ana = m.analyze(text)\n",
    "pprint(ana)"
   ]
  },
  {
   "cell_type": "markdown",
   "metadata": {},
   "source": [
    "### замерить время работы"
   ]
  },
  {
   "cell_type": "code",
   "execution_count": 5,
   "metadata": {},
   "outputs": [
    {
     "name": "stdout",
     "output_type": "stream",
     "text": [
      "Wall time: 43.5 s\n"
     ]
    }
   ],
   "source": [
    "%%time\n",
    "\n",
    "nan = m.analyze(text)"
   ]
  },
  {
   "cell_type": "code",
   "execution_count": 6,
   "metadata": {},
   "outputs": [],
   "source": [
    "import json"
   ]
  },
  {
   "cell_type": "markdown",
   "metadata": {},
   "source": [
    "### сохранить результат в json"
   ]
  },
  {
   "cell_type": "code",
   "execution_count": 7,
   "metadata": {},
   "outputs": [],
   "source": [
    "with open('js_ana.json', 'w', encoding='utf-8') as f:\n",
    "    json.dump(ana, f, ensure_ascii=False)"
   ]
  },
  {
   "cell_type": "markdown",
   "metadata": {},
   "source": [
    "# 3. Обработать книгу через pymorphy"
   ]
  },
  {
   "cell_type": "code",
   "execution_count": 8,
   "metadata": {},
   "outputs": [],
   "source": [
    "with open('bravenewworld.txt', encoding='utf-8') as f:\n",
    "    text = f.read()"
   ]
  },
  {
   "cell_type": "code",
   "execution_count": 9,
   "metadata": {},
   "outputs": [],
   "source": [
    "import nltk\n",
    "from nltk.tokenize import word_tokenize"
   ]
  },
  {
   "cell_type": "markdown",
   "metadata": {},
   "source": [
    "### токенизировать текст с помощью nltk"
   ]
  },
  {
   "cell_type": "code",
   "execution_count": 10,
   "metadata": {},
   "outputs": [],
   "source": [
    "%%time\n",
    "\n",
    "tokens = word_tokenize(text)\n",
    "\n",
    "print(tokens)"
   ]
  },
  {
   "cell_type": "code",
   "execution_count": 11,
   "metadata": {},
   "outputs": [],
   "source": [
    "from pymorphy2 import MorphAnalyzer\n",
    "morph = MorphAnalyzer()"
   ]
  },
  {
   "cell_type": "markdown",
   "metadata": {},
   "source": [
    "### разобрать слова с помощью pymorphy"
   ]
  },
  {
   "cell_type": "code",
   "execution_count": 12,
   "metadata": {},
   "outputs": [],
   "source": [
    "%%time\n",
    "pars = []\n",
    "for t in tokens:\n",
    "    anas = morph.parse(t)\n",
    "    pars.append(anas)\n",
    "print(pars)"
   ]
  },
  {
   "cell_type": "markdown",
   "metadata": {},
   "source": [
    "### сохраните результат (хотя бы лемма + часть речи) в json"
   ]
  },
  {
   "cell_type": "code",
   "execution_count": 13,
   "metadata": {},
   "outputs": [],
   "source": [
    "lem = []\n",
    "for i in pars:\n",
    "    first = i[0]\n",
    "    lem.append([first.normal_form, first.tag.POS])"
   ]
  },
  {
   "cell_type": "code",
   "execution_count": 14,
   "metadata": {},
   "outputs": [],
   "source": [
    "import json"
   ]
  },
  {
   "cell_type": "code",
   "execution_count": 15,
   "metadata": {},
   "outputs": [],
   "source": [
    "with open('js_pars.json', 'w', encoding='utf-8') as f:\n",
    "    json.dump(lem, f, ensure_ascii=False)"
   ]
  },
  {
   "cell_type": "markdown",
   "metadata": {},
   "source": [
    "# 4. Ответить на вопросы:"
   ]
  },
  {
   "cell_type": "markdown",
   "metadata": {},
   "source": [
    "### Какую долю слов составляет каждая часть речи? "
   ]
  },
  {
   "cell_type": "code",
   "execution_count": 16,
   "metadata": {},
   "outputs": [],
   "source": [
    "from collections import Counter"
   ]
  },
  {
   "cell_type": "code",
   "execution_count": 17,
   "metadata": {},
   "outputs": [],
   "source": [
    "pofs = []\n",
    "for i in lem:\n",
    "    pofs.append(i[1])\n",
    "total = Counter(pofs)"
   ]
  },
  {
   "cell_type": "code",
   "execution_count": 18,
   "metadata": {},
   "outputs": [],
   "source": [
    "for name, number in total.items():\n",
    "    perc = number/len(text)*100\n",
    "    print(name, perc)"
   ]
  },
  {
   "cell_type": "markdown",
   "metadata": {},
   "source": [
    "### Найдите топ-20 (по частотности) глаголов и наречий"
   ]
  },
  {
   "cell_type": "code",
   "execution_count": 19,
   "metadata": {},
   "outputs": [],
   "source": [
    "v = []\n",
    "for i in lem:\n",
    "    if i[1] == 'VERB':\n",
    "        v.append(i[0])\n",
    "print(Counter(v).most_common(20))"
   ]
  },
  {
   "cell_type": "code",
   "execution_count": 20,
   "metadata": {},
   "outputs": [],
   "source": [
    "advb = []\n",
    "for i in lem:\n",
    "    if i[1] == 'ADVB':\n",
    "        advb.append(i[0])\n",
    "print(Counter(advb).most_common(20))"
   ]
  },
  {
   "cell_type": "markdown",
   "metadata": {},
   "source": [
    "# 5. Топ-25 биграмм и триграмм для вашего текста в лемматизированном виде"
   ]
  },
  {
   "cell_type": "code",
   "execution_count": 21,
   "metadata": {},
   "outputs": [],
   "source": [
    "lems = []\n",
    "for i in pars:\n",
    "    first = i[0]\n",
    "    lems.append(first.normal_form)"
   ]
  },
  {
   "cell_type": "code",
   "execution_count": null,
   "metadata": {},
   "outputs": [],
   "source": [
    "import re\n",
    "lems1 = ' '.join(lems)\n",
    "lems1 = re.sub(r'[^\\w\\s]', '', lems1)\n",
    "lems1 = lems1.lower()\n",
    "lems1 = lems1.split()\n",
    "print(lems1)"
   ]
  },
  {
   "cell_type": "code",
   "execution_count": 22,
   "metadata": {},
   "outputs": [],
   "source": [
    "biword = [bi for bi in nltk.bigrams(lems1)]\n",
    "print(Counter(biword).most_common(25))"
   ]
  },
  {
   "cell_type": "code",
   "execution_count": 23,
   "metadata": {},
   "outputs": [],
   "source": [
    "triword = [tri for tri in nltk.trigrams(lems1)]\n",
    "print(Counter(triword).most_common(25))"
   ]
  }
 ],
 "metadata": {
  "kernelspec": {
   "display_name": "Python 3",
   "language": "python",
   "name": "python3"
  },
  "language_info": {
   "codemirror_mode": {
    "name": "ipython",
    "version": 3
   },
   "file_extension": ".py",
   "mimetype": "text/x-python",
   "name": "python",
   "nbconvert_exporter": "python",
   "pygments_lexer": "ipython3",
   "version": "3.7.3"
  }
 },
 "nbformat": 4,
 "nbformat_minor": 2
}
