{
 "cells": [
  {
   "cell_type": "markdown",
   "metadata": {},
   "source": [
    "# Домашнее задание 3\n",
    "## выполнила Лика Джиоева совместно с Людмилой Путятовой"
   ]
  },
  {
   "cell_type": "markdown",
   "metadata": {},
   "source": [
    "# 1. Перевести разметку в датафрейм, подобный тому, что был на семинаре"
   ]
  },
  {
   "cell_type": "code",
   "execution_count": 1,
   "metadata": {},
   "outputs": [],
   "source": [
    "import matplotlib.pyplot as plt\n",
    "%matplotlib inline\n",
    "import seaborn as sns\n",
    "import random\n",
    "random.seed = 23\n",
    "import numpy as np\n",
    "import pandas as pd\n",
    "import nltk\n",
    "from nltk.tokenize import word_tokenize\n",
    "from pymorphy2 import MorphAnalyzer\n",
    "from collections import Counter\n",
    "from collections import OrderedDict"
   ]
  },
  {
   "cell_type": "code",
   "execution_count": 2,
   "metadata": {},
   "outputs": [],
   "source": [
    "with open('bravenewworld.txt', encoding='utf-8') as f:\n",
    "    text = f.read()"
   ]
  },
  {
   "cell_type": "code",
   "execution_count": 3,
   "metadata": {},
   "outputs": [],
   "source": [
    "tokens = word_tokenize(text)\n",
    "morph = MorphAnalyzer()"
   ]
  },
  {
   "cell_type": "code",
   "execution_count": 133,
   "metadata": {},
   "outputs": [],
   "source": [
    "pars = []\n",
    "for t in tokens:\n",
    "    anas = morph.parse(t)\n",
    "    pars.append(anas)"
   ]
  },
  {
   "cell_type": "code",
   "execution_count": 122,
   "metadata": {},
   "outputs": [],
   "source": [
    "def convert(tag):\n",
    "    if tag is None:\n",
    "        return tag\n",
    "    else:\n",
    "        return str(tag)"
   ]
  },
  {
   "cell_type": "code",
   "execution_count": 132,
   "metadata": {},
   "outputs": [],
   "source": [
    "data = []\n",
    "\n",
    "for i in pars:\n",
    "    unit = i[0]\n",
    "    data.append({'word': convert(unit.word), 'lex': convert(unit.normal_form), \n",
    "                 'POS': convert(unit.tag.POS), 'animacy': convert(unit.tag.animacy), \n",
    "                 'aspect': convert(unit.tag.aspect), 'case': convert(unit.tag.case),\n",
    "                 'gender': convert(unit.tag.gender), 'involvement': convert(unit.tag.involvement), \n",
    "                 'mood': convert(unit.tag.mood), 'number': convert(unit.tag.number), \n",
    "                 'person': convert(unit.tag.person), 'tense': convert(unit.tag.tense),\n",
    "                 'transitivity': convert(unit.tag.transitivity), 'voice': convert(unit.tag.voice)})"
   ]
  },
  {
   "cell_type": "code",
   "execution_count": 124,
   "metadata": {
    "scrolled": true
   },
   "outputs": [
    {
     "data": {
      "text/html": [
       "<div>\n",
       "<style scoped>\n",
       "    .dataframe tbody tr th:only-of-type {\n",
       "        vertical-align: middle;\n",
       "    }\n",
       "\n",
       "    .dataframe tbody tr th {\n",
       "        vertical-align: top;\n",
       "    }\n",
       "\n",
       "    .dataframe thead th {\n",
       "        text-align: right;\n",
       "    }\n",
       "</style>\n",
       "<table border=\"1\" class=\"dataframe\">\n",
       "  <thead>\n",
       "    <tr style=\"text-align: right;\">\n",
       "      <th></th>\n",
       "      <th>POS</th>\n",
       "      <th>animacy</th>\n",
       "      <th>aspect</th>\n",
       "      <th>case</th>\n",
       "      <th>gender</th>\n",
       "      <th>involvement</th>\n",
       "      <th>lex</th>\n",
       "      <th>mood</th>\n",
       "      <th>number</th>\n",
       "      <th>person</th>\n",
       "      <th>tense</th>\n",
       "      <th>transitivity</th>\n",
       "      <th>voice</th>\n",
       "      <th>word</th>\n",
       "    </tr>\n",
       "  </thead>\n",
       "  <tbody>\n",
       "    <tr>\n",
       "      <th>0</th>\n",
       "      <td>NOUN</td>\n",
       "      <td>inan</td>\n",
       "      <td>None</td>\n",
       "      <td>nomn</td>\n",
       "      <td>masc</td>\n",
       "      <td>None</td>\n",
       "      <td>олдос</td>\n",
       "      <td>None</td>\n",
       "      <td>sing</td>\n",
       "      <td>None</td>\n",
       "      <td>None</td>\n",
       "      <td>None</td>\n",
       "      <td>None</td>\n",
       "      <td>олдос</td>\n",
       "    </tr>\n",
       "    <tr>\n",
       "      <th>1</th>\n",
       "      <td>NOUN</td>\n",
       "      <td>anim</td>\n",
       "      <td>None</td>\n",
       "      <td>nomn</td>\n",
       "      <td>None</td>\n",
       "      <td>None</td>\n",
       "      <td>хаксли</td>\n",
       "      <td>None</td>\n",
       "      <td>sing</td>\n",
       "      <td>None</td>\n",
       "      <td>None</td>\n",
       "      <td>None</td>\n",
       "      <td>None</td>\n",
       "      <td>хаксли</td>\n",
       "    </tr>\n",
       "    <tr>\n",
       "      <th>2</th>\n",
       "      <td>None</td>\n",
       "      <td>None</td>\n",
       "      <td>None</td>\n",
       "      <td>None</td>\n",
       "      <td>None</td>\n",
       "      <td>None</td>\n",
       "      <td>.</td>\n",
       "      <td>None</td>\n",
       "      <td>None</td>\n",
       "      <td>None</td>\n",
       "      <td>None</td>\n",
       "      <td>None</td>\n",
       "      <td>None</td>\n",
       "      <td>.</td>\n",
       "    </tr>\n",
       "    <tr>\n",
       "      <th>3</th>\n",
       "      <td>PREP</td>\n",
       "      <td>None</td>\n",
       "      <td>None</td>\n",
       "      <td>None</td>\n",
       "      <td>None</td>\n",
       "      <td>None</td>\n",
       "      <td>о</td>\n",
       "      <td>None</td>\n",
       "      <td>None</td>\n",
       "      <td>None</td>\n",
       "      <td>None</td>\n",
       "      <td>None</td>\n",
       "      <td>None</td>\n",
       "      <td>о</td>\n",
       "    </tr>\n",
       "    <tr>\n",
       "      <th>4</th>\n",
       "      <td>ADJF</td>\n",
       "      <td>None</td>\n",
       "      <td>None</td>\n",
       "      <td>nomn</td>\n",
       "      <td>masc</td>\n",
       "      <td>None</td>\n",
       "      <td>дивный</td>\n",
       "      <td>None</td>\n",
       "      <td>sing</td>\n",
       "      <td>None</td>\n",
       "      <td>None</td>\n",
       "      <td>None</td>\n",
       "      <td>None</td>\n",
       "      <td>дивный</td>\n",
       "    </tr>\n",
       "    <tr>\n",
       "      <th>5</th>\n",
       "      <td>ADJF</td>\n",
       "      <td>inan</td>\n",
       "      <td>None</td>\n",
       "      <td>accs</td>\n",
       "      <td>masc</td>\n",
       "      <td>None</td>\n",
       "      <td>новый</td>\n",
       "      <td>None</td>\n",
       "      <td>sing</td>\n",
       "      <td>None</td>\n",
       "      <td>None</td>\n",
       "      <td>None</td>\n",
       "      <td>None</td>\n",
       "      <td>новый</td>\n",
       "    </tr>\n",
       "    <tr>\n",
       "      <th>6</th>\n",
       "      <td>NOUN</td>\n",
       "      <td>inan</td>\n",
       "      <td>None</td>\n",
       "      <td>accs</td>\n",
       "      <td>masc</td>\n",
       "      <td>None</td>\n",
       "      <td>мир</td>\n",
       "      <td>None</td>\n",
       "      <td>sing</td>\n",
       "      <td>None</td>\n",
       "      <td>None</td>\n",
       "      <td>None</td>\n",
       "      <td>None</td>\n",
       "      <td>мир</td>\n",
       "    </tr>\n",
       "    <tr>\n",
       "      <th>7</th>\n",
       "      <td>None</td>\n",
       "      <td>None</td>\n",
       "      <td>None</td>\n",
       "      <td>None</td>\n",
       "      <td>None</td>\n",
       "      <td>None</td>\n",
       "      <td>--</td>\n",
       "      <td>None</td>\n",
       "      <td>None</td>\n",
       "      <td>None</td>\n",
       "      <td>None</td>\n",
       "      <td>None</td>\n",
       "      <td>None</td>\n",
       "      <td>--</td>\n",
       "    </tr>\n",
       "    <tr>\n",
       "      <th>8</th>\n",
       "      <td>None</td>\n",
       "      <td>None</td>\n",
       "      <td>None</td>\n",
       "      <td>None</td>\n",
       "      <td>None</td>\n",
       "      <td>None</td>\n",
       "      <td>--</td>\n",
       "      <td>None</td>\n",
       "      <td>None</td>\n",
       "      <td>None</td>\n",
       "      <td>None</td>\n",
       "      <td>None</td>\n",
       "      <td>None</td>\n",
       "      <td>--</td>\n",
       "    </tr>\n",
       "    <tr>\n",
       "      <th>9</th>\n",
       "      <td>None</td>\n",
       "      <td>None</td>\n",
       "      <td>None</td>\n",
       "      <td>None</td>\n",
       "      <td>None</td>\n",
       "      <td>None</td>\n",
       "      <td>--</td>\n",
       "      <td>None</td>\n",
       "      <td>None</td>\n",
       "      <td>None</td>\n",
       "      <td>None</td>\n",
       "      <td>None</td>\n",
       "      <td>None</td>\n",
       "      <td>--</td>\n",
       "    </tr>\n",
       "  </tbody>\n",
       "</table>\n",
       "</div>"
      ],
      "text/plain": [
       "    POS animacy aspect  case gender involvement     lex  mood number person  \\\n",
       "0  NOUN    inan   None  nomn   masc        None   олдос  None   sing   None   \n",
       "1  NOUN    anim   None  nomn   None        None  хаксли  None   sing   None   \n",
       "2  None    None   None  None   None        None       .  None   None   None   \n",
       "3  PREP    None   None  None   None        None       о  None   None   None   \n",
       "4  ADJF    None   None  nomn   masc        None  дивный  None   sing   None   \n",
       "5  ADJF    inan   None  accs   masc        None   новый  None   sing   None   \n",
       "6  NOUN    inan   None  accs   masc        None     мир  None   sing   None   \n",
       "7  None    None   None  None   None        None      --  None   None   None   \n",
       "8  None    None   None  None   None        None      --  None   None   None   \n",
       "9  None    None   None  None   None        None      --  None   None   None   \n",
       "\n",
       "  tense transitivity voice    word  \n",
       "0  None         None  None   олдос  \n",
       "1  None         None  None  хаксли  \n",
       "2  None         None  None       .  \n",
       "3  None         None  None       о  \n",
       "4  None         None  None  дивный  \n",
       "5  None         None  None   новый  \n",
       "6  None         None  None     мир  \n",
       "7  None         None  None      --  \n",
       "8  None         None  None      --  \n",
       "9  None         None  None      --  "
      ]
     },
     "execution_count": 124,
     "metadata": {},
     "output_type": "execute_result"
    }
   ],
   "source": [
    "df = pd.DataFrame(data)\n",
    "df.head(10)"
   ]
  },
  {
   "cell_type": "markdown",
   "metadata": {},
   "source": [
    "# 2. Повторить какие-то из графиков с семинара на своих книжных данных"
   ]
  },
  {
   "cell_type": "code",
   "execution_count": 125,
   "metadata": {},
   "outputs": [
    {
     "data": {
      "image/png": "[encoded data removed]",
      "text/plain": [
       "<Figure size 432x288 with 1 Axes>"
      ]
     },
     "metadata": {
      "needs_background": "light"
     },
     "output_type": "display_data"
    }
   ],
   "source": [
    "df['gender'].value_counts().plot.bar(color='salmon'); \n",
    "plt.title('Gender')\n",
    "plt.xlabel('gender')\n",
    "plt.ylabel('number of entries');"
   ]
  },
  {
   "cell_type": "code",
   "execution_count": 128,
   "metadata": {},
   "outputs": [
    {
     "data": {
      "image/png": "[encoded data removed]",
      "text/plain": [
       "<Figure size 432x288 with 1 Axes>"
      ]
     },
     "metadata": {
      "needs_background": "light"
     },
     "output_type": "display_data"
    }
   ],
   "source": [
    "df2 = df[\n",
    "    (df['gender'] != '') & (df['gender'] != 'мж')\n",
    "][\n",
    "    ['POS', 'gender', 'number']\n",
    "].groupby(['POS', 'gender'], as_index=False).count()\n",
    "\n",
    "df2.columns = ['POS', 'gender', 'total']\n",
    "sns.barplot(x=\"POS\", y=\"total\", hue='gender', data=df2)\n",
    "plt.title('Gender by POS')\n",
    "plt.xlabel('POS')\n",
    "plt.ylabel('number of entries');"
   ]
  },
  {
   "cell_type": "code",
   "execution_count": 95,
   "metadata": {},
   "outputs": [
    {
     "data": {
      "image/png": "[encoded data removed]",
      "text/plain": [
       "<Figure size 432x432 with 1 Axes>"
      ]
     },
     "metadata": {},
     "output_type": "display_data"
    }
   ],
   "source": [
    "plt.figure(figsize=(6, 6))\n",
    "df['gender'].value_counts().plot(kind='pie');\n",
    "plt.title('Gender');"
   ]
  },
  {
   "cell_type": "markdown",
   "metadata": {},
   "source": [
    "# 3. Придумать 2 своих визуализации, которые будут отличаться от того, что есть в конспекте"
   ]
  },
  {
   "cell_type": "code",
   "execution_count": 213,
   "metadata": {},
   "outputs": [],
   "source": [
    "df2 = df[['animacy', 'case', 'gender']].groupby(['animacy', 'case'], as_index=False).count()\n",
    "df2.columns = ['animacy', 'case', 'total']\n",
    "df2 = df2[df2['total'] > 10]"
   ]
  },
  {
   "cell_type": "markdown",
   "metadata": {},
   "source": [
    "распределения в группе, когда у нас есть падежи и частоты вхождений падежей одуш/неодуш лексем"
   ]
  },
  {
   "cell_type": "code",
   "execution_count": 215,
   "metadata": {},
   "outputs": [
    {
     "data": {
      "image/png": "[encoded data removed]",
      "text/plain": [
       "<Figure size 720x432 with 1 Axes>"
      ]
     },
     "metadata": {
      "needs_background": "light"
     },
     "output_type": "display_data"
    }
   ],
   "source": [
    "plt.figure(figsize=(10, 6))\n",
    "sns.boxplot(x=\"case\", y=\"total\", data=df2)\n",
    "plt.ylim((0, 4000))\n",
    "plt.title('N of animacy entries by case')\n",
    "plt.ylabel('n entries')\n",
    "plt.xlabel('case');"
   ]
  },
  {
   "cell_type": "markdown",
   "metadata": {},
   "source": [
    "# 4. Освоить nltk dispersion plot и сделать такой график по героям вашей книги"
   ]
  },
  {
   "cell_type": "code",
   "execution_count": 193,
   "metadata": {},
   "outputs": [],
   "source": [
    "lem = []\n",
    "for i in pars:\n",
    "    first = i[0]\n",
    "    lem.extend([first.normal_form])"
   ]
  },
  {
   "cell_type": "code",
   "execution_count": 190,
   "metadata": {},
   "outputs": [],
   "source": [
    "lem1 = nltk.Text(lem)"
   ]
  },
  {
   "cell_type": "code",
   "execution_count": 192,
   "metadata": {},
   "outputs": [
    {
     "data": {
      "image/png": "[encoded data removed]",
      "text/plain": [
       "<Figure size 432x288 with 1 Axes>"
      ]
     },
     "metadata": {
      "needs_background": "light"
     },
     "output_type": "display_data"
    }
   ],
   "source": [
    "lem1.dispersion_plot([\"бернард\", \"джон\", \"гельмгольц\"])"
   ]
  },
  {
   "cell_type": "code",
   "execution_count": null,
   "metadata": {},
   "outputs": [],
   "source": []
  }
 ],
 "metadata": {
  "kernelspec": {
   "display_name": "Python 3",
   "language": "python",
   "name": "python3"
  },
  "language_info": {
   "codemirror_mode": {
    "name": "ipython",
    "version": 3
   },
   "file_extension": ".py",
   "mimetype": "text/x-python",
   "name": "python",
   "nbconvert_exporter": "python",
   "pygments_lexer": "ipython3",
   "version": "3.7.3"
  }
 },
 "nbformat": 4,
 "nbformat_minor": 2
}
